{
 "cells": [
  {
   "cell_type": "markdown",
   "id": "e55ac882-3589-46c4-8162-51831e3196d3",
   "metadata": {},
   "source": [
    "# Ngày 1: Linear Regression"
   ]
  },
  {
   "cell_type": "markdown",
   "id": "c50f7649-0457-4c45-926a-a85f79d8f339",
   "metadata": {},
   "source": [
    "## Lời mở đầu"
   ]
  },
  {
   "cell_type": "markdown",
   "id": "f8400b29-ccdb-4e74-970e-23a6b7ed167b",
   "metadata": {},
   "source": [
    "Trong ngày đầu tiên chúng ta sẽ tiếp cận 1 bài toán căn bản (nhập môn) của Machine Learning. Đây là 1 bài toán trong lớp bài toán Supervised Learning (Học giám sát) bằng cách áp dụng 1 hàm tuyến tính cố gắng căn chỉnh sao cho nó ít sai khác với dữ liệu. Bạn sẽ dễ dàng làm quen khi bạn đã học qua xác suất thống kê :3!"
   ]
  },
  {
   "cell_type": "markdown",
   "id": "64e59b6b-8ae0-409d-afaf-d4bfb9a8620e",
   "metadata": {},
   "source": [
    "## Phần 1: Giới thiệu"
   ]
  },
  {
   "cell_type": "markdown",
   "id": "9be9faae-7178-46e1-a302-294de58830e2",
   "metadata": {},
   "source": [
    "### Vấn đề"
   ]
  },
  {
   "cell_type": "markdown",
   "id": "f54838c3-e367-4794-b86c-3987aae07013",
   "metadata": {},
   "source": [
    "Giả sử rằng ta đã thống kê được 1000 căn nhà đăng được trong một thành phố giả tưởng PolyCity, trong dữ liệu thống kê ta thống kê về diện tích căn nhà và giá bán của căn nhà đó? Một câu hỏi đặt ra với chúng ta là liệu rằng với bộ dữ liệu trên, ta có tìm được mối quan hệ giữa giá nhà và diện tích căn nhà không? Khi ta tìm được mối quan hệ ấy ta có thể dự đoán với dữ liệu nào đó (có thể trong bộ dữ liệu ta thu thập, hay chưa từng thống kê) về diện tích căn nhà, ta có thể sấp sĩ được giá nhà không?"
   ]
  },
  {
   "cell_type": "markdown",
   "id": "cee2715b-2ade-4ecb-a512-2303a5b64dc7",
   "metadata": {},
   "source": [
    "Khi ta thử plot chúng lên đồ thị hoặc dựa trên kinh nghiệm suy đoán rằng mối quan hệ tuyến tính, tức là giá nhà tăng khi diện tích căn nhà tăng. Chúng được sấp sĩ bởi hàm."
   ]
  },
  {
   "cell_type": "markdown",
   "id": "15482f73-984e-4cba-8976-53943fce23f8",
   "metadata": {},
   "source": [
    "$$\\hat{y}(x) = w * x + b$$\n",
    "\n",
    "Trong đó:\n",
    "- $\\hat{y}$ là số tiền dự đoán. (Đọc là y hat).\n",
    "- $w$ là hằng số của hàm.\n",
    "- $b$ là giá trị hằng số không phụ thuộc dữ liệu. (bias)"
   ]
  },
  {
   "cell_type": "markdown",
   "id": "b3c481f0-ea8f-4b14-8c78-17fc189f8747",
   "metadata": {},
   "source": [
    "Vì giá căn nhà là hàm $\\hat{y}$ có dạng tuyến tính nên nó được gọi là linear. Bài toán mà chúng ta đang làm thuộc loại regression (Nên chúng ta mới gọi nó là linear regression). Mục đích của bài toán này là tìm ra các hằng số ${w,b}$ của hàm $\\hat{y}$ sao cho nó tối ưu nhất."
   ]
  },
  {
   "cell_type": "markdown",
   "id": "3b5befd7-d8ec-41fd-9e7c-2ad56d115bc5",
   "metadata": {},
   "source": [
    "> Chú ý 1: $y$ là giá trị thực sự outcome (giá trị mà ta đi khảo sát thống kê), $\\hat{y}$ là giá trị mà mô hình dự đoán. Đây là 2 giá trị về mặt ý nghĩa chúng khác nhau, nhưng chúng có một mối quan hệ nào đó với nhau khiến ta có thể tối ưu được hàm dự đoán và có thể sử dụng giá trị $\\hat{y}$ như một giá trị sấp sĩ của giá trị thực sự chính xác."
   ]
  },
  {
   "cell_type": "markdown",
   "id": "89031632-6314-4ffd-b410-df8eefd1572c",
   "metadata": {},
   "source": [
    "> Chú ý 2: Linear Regression hiểu đơn giản là nó thẳng, phẳng. Với không gian 2 chiều, hàm số tuyến tính là 1 đường thẳng. Không gian 3 chiều nó sẽ là 1 mặt phẳng. Còn nhiều hơn không gian 3 chiều nó sẽ gọi là mặt siêu phẳng (hyperplane). Các hàm tuyến tính là hàm số đơn giản nhất vì nó dễ hình dung và tính toán."
   ]
  },
  {
   "cell_type": "markdown",
   "id": "07adaf9d-7f89-4f0b-afd1-6905d9fa3fe8",
   "metadata": {},
   "source": [
    "## Phần 2: Phân tích toán học"
   ]
  },
  {
   "cell_type": "markdown",
   "id": "3f3ffcb7-44e4-4915-902a-e1e9609d2834",
   "metadata": {},
   "source": [
    "### Mở rộng"
   ]
  },
  {
   "cell_type": "markdown",
   "id": "2fc76fa6-4081-4198-8292-9bd5cf30e335",
   "metadata": {},
   "source": [
    "Thực sự ngoài thực tế ta không thể chỉ khẳng định giá nhà thông qua mỗi yếu tố về diện tích mà còn các yếu tố khác như là khoảng cách đến trung tâm thành phố, bao nhiêu phòng ngủ, bao nhiêu tầng, ... "
   ]
  },
  {
   "cell_type": "markdown",
   "id": "a30ba2e8-4c54-44ea-85f1-b1252f939a20",
   "metadata": {},
   "source": [
    "Bởi thế ta không ta không thể dùng mỗi 1 biến x để biểu diễn được mà lần này ta cần mở rộng x ra thành 1 vector chứa các yếu tố của căn nhà (như $x_1$ là thông tin diện tích căn nhà, $x_2$ là số phòng ngủ, $x_3$ là số lầu, $x_4$ là khoảng cách tới trung tâm thành phố,...)"
   ]
  },
  {
   "cell_type": "markdown",
   "id": "bf8738c5-95b2-4d92-9455-176242673983",
   "metadata": {},
   "source": [
    "Quy ước:\n",
    "- $n$ là số điểm dữ liệu (số căn nhà ta dùng để thống kê cho mô hình trong bài toán này).\n",
    "- $m$ là số thuộc tính (yếu tố)."
   ]
  },
  {
   "cell_type": "markdown",
   "id": "4c207957-6bf9-497e-ae2f-239ca94b269a",
   "metadata": {},
   "source": [
    "Nên phương trình có dạng:\n",
    "$$\\hat{y}(\\vec{x}) = \\sum_{i = 1}^{m}(w_i * x_i) + bias = \\vec{w_i} \\cdot \\vec{x_i} + bias$$"
   ]
  },
  {
   "cell_type": "markdown",
   "id": "8d02e659-7e1a-4d43-97c3-759ebd3ed83c",
   "metadata": {},
   "source": [
    "### Hàm sai số dự đoán"
   ]
  },
  {
   "cell_type": "markdown",
   "id": "b10fabcb-2976-4b0a-9329-82c5ecedfd5b",
   "metadata": {},
   "source": [
    "Gọi $e_i$ là giá trị sai khác của giá trị được thực sự thống kê $y$ và giá trị của mô hình dự đoán $\\hat{y}_i$, vì vậy $e_i$ phải thể là một hàm gì đó thể hiện được sự khác biệt giữa 2 giá trị này nên là $e_i = (\\hat{y}_i - y_i)^2$ (mũ 2 vì giá trị $\\hat{y}_i - y_i$ có thể tạo ra con số âm, nên bình phương lên khiến cho số đó sẽ là số dương). \n",
    "\n",
    "> $y_i$ và $\\hat{y}_i$ lần lượt là giá trị thực thống kê của dữ liệu $i$ (ngôi nhà $i$) và giá trị đầu ra tương ứng của mô hình."
   ]
  },
  {
   "cell_type": "markdown",
   "id": "ed89179a-8862-4131-9b1b-b71cc419e98f",
   "metadata": {},
   "source": [
    "Với các giá trị $e_i$ ta cần tìm 1 mô hình làm sao giảm thiểu được tổng các giá trị sai khác $e_i$ càng nhỏ càng tốt. Gọi hàm tổng các giá trị sai khác là: \n",
    "$$\\mathcal{L} = \\frac{1}{2} \\sum_{i = 1}^{n} e_i = \\frac{1}{2} \\sum_{i = 1}^{n}{(y_i - \\hat{y}_i)^2} $$"
   ]
  },
  {
   "cell_type": "markdown",
   "id": "53657972-57ac-444c-9de5-2e6c99ebd7d8",
   "metadata": {},
   "source": [
    "Câu hỏi bạn có thể đặt ra: \"Tại sao không dùng giá trị tuyệt đối khi tính $e_i$ mà lấy giá trị bình phương?\"\n",
    "OK mình sẽ thấy bạn sẽ bị rối nhưng để tới phần sau mình sẽ giải thích.\n",
    "Dữ lại $\\frac{1}{2}$ để tiện cho việc tính toán sau này, khi tính đạo hàm hệ sống này sẽ biến mất."
   ]
  },
  {
   "cell_type": "markdown",
   "id": "4a8e5411-7017-4854-ae38-2edd6fa3103c",
   "metadata": {},
   "source": [
    "Công việc của ta là phải tìm ra bộ tham số ${\\vec{w},bias}$ để giảm chi phí hàm $\\mathcal{L}$:\n",
    "$$\\{\\vec{w},bias\\} = \\underset{\\vec{w},bias}{\\text{argmin}}\\mathcal{L} = \\underset{\\vec{w},bias}{\\text{argmin}}\\frac{1}{2} \\sum_{i = 1}^{n}{(y_i - \\hat{y_i})^2} = \\underset{\\vec{w},bias}{\\text{argmin}}\\frac{1}{2} \\sum_{i = 1}^{n}{(y - (\\vec{w_i} \\cdot \\vec{x_i} + bias))^2}$$"
   ]
  },
  {
   "cell_type": "markdown",
   "id": "d4347439-4ac6-4457-ab7a-33c805bcb917",
   "metadata": {},
   "source": [
    "### Thay đổi cách viết"
   ]
  },
  {
   "cell_type": "markdown",
   "id": "2558a3b4-113c-4126-8ec5-b5410a427daf",
   "metadata": {},
   "source": [
    "Thay vì ghi $\\hat{y} = \\vec{w} \\cdot \\vec{x} + bias$. Ta đổi lại, với $\\vec{w} = (w_0,w_1,w_2,...,w_m)$ (với $w_0$ chính là bias) và thêm 1 chiều để số 1 vào $\\vec{x}$ ta có $\\vec{x} = (1,x_1,x_2,x_3,...,x_m)$, thì viết lại mô hình tuyến tính mới sẽ là:\n",
    "$$\\hat{y} = \\vec{w} \\cdot \\vec{x}$$"
   ]
  },
  {
   "cell_type": "markdown",
   "id": "19fa0d0b-6fbb-413c-bf94-2c9d25ffd875",
   "metadata": {},
   "source": [
    "Vậy giờ ta thay đổi lại là tìm $\\vec{w}$ sao cho $\\mathcal{L}$ đạt giá trị bé nhất.\n",
    "$$\\vec{w} = \\underset{\\vec{w},bias}{\\text{argmin}}\\frac{1}{2} \\sum_{i = 1}^{n}{(y_i - (\\vec{w_i} \\cdot \\vec{x_i})) ^ 2} = \\underset{\\vec{w},bias}{\\text{argmin}}\\frac{1}{2} {\\|y_i - (\\vec{w_i} \\cdot \\vec{x_i})\\|^2}$$"
   ]
  },
  {
   "cell_type": "markdown",
   "id": "20800072-db52-4543-b0e7-edbff502db1b",
   "metadata": {},
   "source": [
    "### Giải nghiệm"
   ]
  },
  {
   "cell_type": "markdown",
   "id": "929c33c1-589c-40de-9766-cab824fe6e3f",
   "metadata": {},
   "source": [
    "Ta đã học từ lớp 12 rằng để tìm giá trị cực tiểu, cực đại hay tìm giá trị lớn nhất nhỏ nhất thì ta tìm các vị trí mà hàm số đạt tới \"chóp, hoặc tận đáy\", mà những nơi như thế thì đạo hàm hàm số bằng 0, vì thế áp dụng vô bài toán này ta tìm đạo hàm hàm sai số dự đoán, rồi giải đạo hàm ấy bằng 0 "
   ]
  },
  {
   "cell_type": "markdown",
   "id": "c15e6b2c-7769-425f-8c51-4c5199d1fb21",
   "metadata": {},
   "source": [
    "$$\\frac{\\partial \\mathcal{L}}{\\partial \\vec{w}} = \\sum_{i = 1}^{n} \\vec{x_i}{(y_i - (\\vec{w_i} \\cdot \\vec{x_i})) ^ 2}$$"
   ]
  },
  {
   "cell_type": "markdown",
   "id": "a82b3d07-8b45-4653-aacb-de4ed417bc13",
   "metadata": {},
   "source": [
    "### Biểu diễn ma trận"
   ]
  },
  {
   "cell_type": "markdown",
   "id": "2efff352-174f-497a-bc78-ee57c89878e8",
   "metadata": {},
   "source": [
    "Đạo hàm hàm sai số dự đoán $\\mathcal{L}$ có thể được viết lại dưới dạng ma trận như sau:\n",
    "$$\\frac{\\partial \\mathcal{L}}{\\partial \\vec{w}} = X^T(Y - XW)$$\n",
    "\n",
    "Trong đó:\n",
    "- $X$ là ma trận input với các thuộc tính được xếp theo hàng\n",
    "- $W$ là ma trận trong số của $\\vec{w}$ được xếp theo cột\n",
    "- $Y$ là các giá trị đầu ra đã được thống kê tương ứng, xếp theo cột."
   ]
  },
  {
   "cell_type": "markdown",
   "id": "b4089cbe-cbed-497c-9766-0a2f3cc9a211",
   "metadata": {},
   "source": [
    "Giải nghiệm $\\vec{w}$ để đạo hàm bằng 0"
   ]
  },
  {
   "cell_type": "markdown",
   "id": "61b4b55d-59f6-439b-bd71-732c56fa0afc",
   "metadata": {},
   "source": [
    "$$\\frac{\\partial \\mathcal{L}}{\\partial \\vec{w}} = 0$$\n",
    "$$<=>X^T(Y-XW) = 0$$\n",
    "$$<=>X^TY - X^TXW = 0$$\n",
    "$$<=>X^TY = X^TXW$$\n",
    "$$->W = (X^TX)^{-1}X^TY$$"
   ]
  },
  {
   "cell_type": "markdown",
   "id": "d520302c-5527-418a-8c39-c9e378dc427a",
   "metadata": {},
   "source": [
    "Nhưng lỡ $(X^TX)^{-1}$ không khả nghịch thì sao? Như bạn đã nhớ nếu ma trận ấy không khả nghịch ($\\det(X^TX) = 0$) thì 1 là nó vô nghiệm, 2 là nó có vô số nghiệm, lúc ấy ta sử dụng 1 khái niệm về giả nghịch đảo (dagger). [Tham khảo ở đây](https://www.sci.utah.edu/~gerig/CS6640-F2012/Materials/pseudoinverse-cis61009sl10.pdf)"
   ]
  },
  {
   "cell_type": "markdown",
   "id": "20e25706-e1bb-495d-bcef-830b003784e3",
   "metadata": {},
   "source": [
    "Vậy với ma trận khả nghịch đảo, thì khi dùng khái niệm giả nghịch đảo thì:\n",
    "$$W = (X^TX)^\\dagger X^TY$$"
   ]
  },
  {
   "cell_type": "markdown",
   "id": "4d673592-d57b-4491-9bad-938ba8b4aa79",
   "metadata": {},
   "source": [
    "## Phần 3: Ví dụ với Python"
   ]
  },
  {
   "cell_type": "markdown",
   "id": "b99332b7-083b-49ea-a8c4-4a988fd5deda",
   "metadata": {},
   "source": [
    "Ở đây mình sẽ chia thành 2 phần, phần đầu mình sẽ dùng nghiệm của phương trình trên mình đã làm, và phần 2 mình sẽ dùng thư viên sklearn để so sánh kết quả."
   ]
  },
  {
   "cell_type": "markdown",
   "id": "60ebe1fe-36e4-48d5-b933-f88d8dfe62b3",
   "metadata": {},
   "source": [
    "### Bài toán"
   ]
  },
  {
   "cell_type": "markdown",
   "id": "c8e34d10-c2c2-4f89-abb6-87ab4116f930",
   "metadata": {},
   "source": [
    "Giả dụ rằng cân nặng phụ thuộc 1 hàm tuyến tính nào đó với chiều cao (thực tế điều này không đúng vì cân nặng còn phụ thuộc nhiều yếu tố khác), ta hãy tìm ra mô hình hồi quy tuyến tính với dữ liệu đầu vào là chiều cao và đầu ra ta cần dự đoán là cân nặng của 1 người"
   ]
  },
  {
   "cell_type": "markdown",
   "id": "48cc3a9d-084a-44d2-81f8-c134ef284901",
   "metadata": {},
   "source": [
    "Dữ liệu:"
   ]
  },
  {
   "cell_type": "markdown",
   "id": "3a1c14ce-285f-4540-ad73-6ff7dbb12dc2",
   "metadata": {},
   "source": [
    "\\begin{array}{|c|c|}\n",
    "\\hline\n",
    "\\text{Chiều cao (cm)} & \\text{Cân nặng (kg)} \\\\\n",
    "\\hline\n",
    "147 & 49 \\\\\n",
    "168 & 60 \\\\\n",
    "150 & 50 \\\\\n",
    "170 & 72 \\\\\n",
    "153 & 51 \\\\\n",
    "173 & 63 \\\\\n",
    "155 & 52 \\\\\n",
    "175 & 64 \\\\\n",
    "158 & 54 \\\\\n",
    "178 & 66 \\\\\n",
    "160 & 56 \\\\\n",
    "180 & 67 \\\\\n",
    "163 & 58 \\\\\n",
    "183 & 68 \\\\\n",
    "165 & 59 \\\\\n",
    "\\hline\n",
    "\\end{array}"
   ]
  },
  {
   "cell_type": "markdown",
   "id": "88e7f224-e7e5-4e4c-ad34-e93099dd201f",
   "metadata": {},
   "source": [
    "Ta có thể quan sát được Cân nặng tỉ lệ thuận với chiều cao theo (càng cao, càng nặng). Ta có thể dùng mô hình Linear Regression cho bài toán này. Để mục đích sau này test mô hình ta sẽ dữ lại cột có chiều cao là $155$ và $160$ để kiểm tra mô hình."
   ]
  },
  {
   "cell_type": "markdown",
   "id": "3fe9a51d-e7a0-40e0-84db-1c713fc7c1d1",
   "metadata": {},
   "source": [
    "### Trực quan dữ liệu"
   ]
  },
  {
   "cell_type": "code",
   "execution_count": 439,
   "id": "7d95b457-6122-46f4-bb9d-89e2d337e3f7",
   "metadata": {},
   "outputs": [],
   "source": [
    "#Import Library\n",
    "import numpy as np\n",
    "import matplotlib.pyplot as plt"
   ]
  },
  {
   "cell_type": "code",
   "execution_count": 443,
   "id": "6a04bb22-20f6-4852-a1f7-44d22004afa2",
   "metadata": {},
   "outputs": [
    {
     "data": {
      "image/png": "[encoded data removed]",
      "text/plain": [
       "<Figure size 640x480 with 1 Axes>"
      ]
     },
     "metadata": {},
     "output_type": "display_data"
    }
   ],
   "source": [
    "# height (cm)\n",
    "X = np.array([[147, 150, 153, 158, 163, 165, 168, 170, 173, 175, 178, 180, 183]]).T\n",
    "# weight (kg)\n",
    "y = np.array([[ 49, 50, 51,  54, 58, 59, 60, 62, 63, 64, 66, 67, 68]]).T\n",
    "# Visualize data \n",
    "plt.plot(X, y, 'ro')\n",
    "plt.axis([140, 190, 45, 75])\n",
    "plt.xlabel('Height (cm)')\n",
    "plt.ylabel('Weight (kg)')\n",
    "plt.show()"
   ]
  },
  {
   "cell_type": "markdown",
   "id": "f8d9ac86-05fd-4c4a-8449-dce6bd8b19a3",
   "metadata": {},
   "source": [
    "Ta thấy các điểm dữ liệu sắp xếp giống như là 1 đường thẳng nên khả năng là mô hình Linear Regression cho ra kết quả tốt."
   ]
  },
  {
   "cell_type": "markdown",
   "id": "580be6b6-030b-413a-ab73-a98e56bd235e",
   "metadata": {},
   "source": [
    "### Tìm nghiệm"
   ]
  },
  {
   "cell_type": "markdown",
   "id": "7dc09889-c939-4fd4-bde1-a46b5beaf4f2",
   "metadata": {},
   "source": [
    "> Công thức : $$W = (X^TX)^\\dagger X^TY$$"
   ]
  },
  {
   "cell_type": "code",
   "execution_count": 448,
   "id": "9261c4e3-6961-4658-9c84-5ac2b21534f0",
   "metadata": {},
   "outputs": [
    {
     "data": {
      "text/plain": [
       "array([[  1., 147.],\n",
       "       [  1., 150.],\n",
       "       [  1., 153.],\n",
       "       [  1., 158.],\n",
       "       [  1., 163.],\n",
       "       [  1., 165.],\n",
       "       [  1., 168.],\n",
       "       [  1., 170.],\n",
       "       [  1., 173.],\n",
       "       [  1., 175.],\n",
       "       [  1., 178.],\n",
       "       [  1., 180.],\n",
       "       [  1., 183.]])"
      ]
     },
     "execution_count": 448,
     "metadata": {},
     "output_type": "execute_result"
    }
   ],
   "source": [
    "#Add 1's column to Matrix X\n",
    "ones = np.ones((X.shape[0],1))\n",
    "X_added = np.concatenate((ones,X),axis = 1)\n",
    "X_added"
   ]
  },
  {
   "cell_type": "markdown",
   "id": "d00671fe-0753-4a73-a483-0dcb6f8fba59",
   "metadata": {},
   "source": [
    "Ta sẽ sử dụng thư viện đại số tuyến tính của numpy để tìm ma trận giả nghịch ($\\textcolor{\\red}{numpy.linalg.pinv(A)}$ trong đó $\\textcolor{\\red}{pinv}$ là viết tắt của psuedo inverse)"
   ]
  },
  {
   "cell_type": "code",
   "execution_count": 451,
   "id": "ebbe2ea1-8e78-4c84-8c06-539356a302eb",
   "metadata": {},
   "outputs": [
    {
     "data": {
      "text/plain": [
       "array([[-33.73541021],\n",
       "       [  0.55920496]])"
      ]
     },
     "execution_count": 451,
     "metadata": {},
     "output_type": "execute_result"
    }
   ],
   "source": [
    "# A = (X^T X)\n",
    "A = np.transpose(X_added) @ X_added\n",
    "W = np.linalg.pinv(A) @ np.transpose(X_added) @ y\n",
    "W"
   ]
  },
  {
   "cell_type": "code",
   "execution_count": 453,
   "id": "368b3638-4580-45ea-ab57-44bb8c312ec4",
   "metadata": {},
   "outputs": [],
   "source": [
    "# Preparing the fitting line \n",
    "w_0 = W[0][0]\n",
    "w_1 = W[1][0]\n",
    "x0 = np.linspace(145, 185, 2)\n",
    "y0 = w_0 + w_1*x0"
   ]
  },
  {
   "cell_type": "code",
   "execution_count": 457,
   "id": "8cae5e35-91d3-4c97-895c-9937e8f17e66",
   "metadata": {},
   "outputs": [
    {
     "data": {
      "image/png": "[encoded data removed]",
      "text/plain": [
       "<Figure size 640x480 with 1 Axes>"
      ]
     },
     "metadata": {},
     "output_type": "display_data"
    }
   ],
   "source": [
    "# Drawing the fitting line \n",
    "plt.plot(X[0:].T, y.T, 'ro')     # data \n",
    "plt.plot(x0, y0)               # the fitting line\n",
    "plt.axis([140, 190, 45, 75])\n",
    "plt.xlabel('Height (cm)')\n",
    "plt.ylabel('Weight (kg)')\n",
    "plt.show()"
   ]
  },
  {
   "cell_type": "markdown",
   "id": "8bf194a9-509b-4279-af29-6e922c374bae",
   "metadata": {},
   "source": [
    "Ta thấy các điểm dữ liệu nằm gần đường màu xanh (đường mô hình dự đoán), vậy là mô hình khá tốt trên dữ liệu training. Bây giờ ta sử dụng thử 2 điểm dữ liệu ta đề cập 155cm và 160cm để dự đoán cân nặng. (2 dữ liệu ko nằm trong bộ dữ liệu huấn luyện)"
   ]
  },
  {
   "cell_type": "code",
   "execution_count": 460,
   "id": "7110f524-1e06-406f-9e05-0141ceded3c4",
   "metadata": {},
   "outputs": [
    {
     "name": "stdout",
     "output_type": "stream",
     "text": [
      "Dự đoán cân nặng với chiều cao 155 cm: 52.94 (kg), giá trị thực sự: 52 (kg)\n",
      "Dự đoán cân nặng với chiều cao 160 cm: 55.74 (kg), giá trị thực sự: 56 (kg)\n"
     ]
    }
   ],
   "source": [
    "y1 = w_1*155 + w_0\n",
    "y2 = w_1*160 + w_0\n",
    "\n",
    "print( u'Dự đoán cân nặng với chiều cao 155 cm: %.2f (kg), giá trị thực sự: 52 (kg)'  %(y1) )\n",
    "print( u'Dự đoán cân nặng với chiều cao 160 cm: %.2f (kg), giá trị thực sự: 56 (kg)'  %(y2) )"
   ]
  },
  {
   "cell_type": "markdown",
   "id": "ed62feb8-9572-4165-9bef-18415c804391",
   "metadata": {},
   "source": [
    "### Nghiệm theo thư viện sklearn"
   ]
  },
  {
   "cell_type": "code",
   "execution_count": 463,
   "id": "2bf136f7-82f0-4247-b2f8-4cebd3e52c58",
   "metadata": {},
   "outputs": [],
   "source": [
    "#import library\n",
    "from sklearn import linear_model"
   ]
  },
  {
   "cell_type": "code",
   "execution_count": 469,
   "id": "b85675f6-1819-4d32-b039-59045d791d0f",
   "metadata": {},
   "outputs": [
    {
     "name": "stdout",
     "output_type": "stream",
     "text": [
      "Solution found by scikit-learn  :  [[-33.73541021   0.55920496]]\n",
      "Solution found by (5):  [[-33.73541021   0.55920496]]\n"
     ]
    }
   ],
   "source": [
    "#fit model\n",
    "regr = linear_model.LinearRegression(fit_intercept=False) # fit_intercept = False for calculating the bias\n",
    "regr.fit(X_added, y)\n",
    "\n",
    "# Compare two results\n",
    "print( 'Solution found by scikit-learn  : ', regr.coef_ )\n",
    "print( 'Solution found by (5): ', W.T)"
   ]
  },
  {
   "cell_type": "markdown",
   "id": "57627a81-7804-491d-ad53-0e1a5f6f9db8",
   "metadata": {},
   "source": [
    "Kết quả là giống nhau vậy là công thức ta đúng rùi :3"
   ]
  },
  {
   "cell_type": "markdown",
   "id": "49024f4c-2d63-4b85-b0cc-1b125f323261",
   "metadata": {},
   "source": [
    "## Phần 3: Thảo luận"
   ]
  },
  {
   "cell_type": "markdown",
   "id": "006d7c69-894f-47bc-ba15-328fc7a9e183",
   "metadata": {},
   "source": [
    "### Mở rộng bài toán"
   ]
  },
  {
   "cell_type": "markdown",
   "id": "29a4bed6-78f8-4959-937e-dc7153e3877b",
   "metadata": {},
   "source": [
    "Ngoài các bài toán 1 biến như trên ta có thể giải các bài toán mà mô hình tuyến tính theo $w$, ví dụ: \n",
    "$\\hat{y} = x_1 * w_1 + x_1^2 * w_2 + cos(x_1)^2 * w_3 + e^{x_2} * w_4 + x_2 * w_5$"
   ]
  },
  {
   "cell_type": "markdown",
   "id": "0fd5d20d-d35c-4a9a-baad-6dabad5d0e19",
   "metadata": {},
   "source": [
    "Những giá trị ấy tuyến tính theo w nên có thể áp dụng mô hình Linear Regression. Với ví dụ trên mỗi giá trị đầu vào vector $\\vec{x} = (x_1,x_2)$ ta tính toán các giá trị trị $\\tilde{x} = (x_1,x_1^2,cos(w_1)^2,e^{x_2},x_2)$, bạn có thể cook thêm nữa."
   ]
  },
  {
   "cell_type": "markdown",
   "id": "203f38c3-f44f-418c-8f46-84ae3687381c",
   "metadata": {},
   "source": [
    "![Mô hình khi áp dụng mô hình mở rộng](http://www.varsitytutors.com/assets/vt-hotmath-legacy/hotmath_help/topics/quadratic-regression/f-qr-1-1.gif)"
   ]
  },
  {
   "cell_type": "markdown",
   "id": "73e9e141-c02f-415c-8f41-a00a7cd25986",
   "metadata": {},
   "source": [
    "Ảnh trên là ảnh khi bạn mở rộng công thức bạn lên hàm bậc 2"
   ]
  },
  {
   "cell_type": "markdown",
   "id": "d062d0ca-b0b8-4ba6-8b9e-262483fe4144",
   "metadata": {},
   "source": [
    "### Lợi hại việc mở rộng"
   ]
  },
  {
   "cell_type": "markdown",
   "id": "5a3b00f5-b53a-4121-b721-692bd34e2ffd",
   "metadata": {},
   "source": [
    "Khi bạn mở rộng vậy thì mô hình bạn có khuynh hướng fit với trainning data hơn, nó khiến hàm của bạn trở nên phức tạp hơn nhưng chúng lại dễ khớp dữ liệu. Nhưng khớp quá lại không ổn, vì chúng sẽ dẫn đến chuyện High Varience (Overfit), nên ta cần phải cân bằng được độ phức tạp của hàm vừa cân bằng với đánh giá của những dữ liệu ngoài. Vì mục đích của học máy là đâu phải \"học vẹt\" mà là tạo ra hàm tổng quát cho bài toán."
   ]
  },
  {
   "cell_type": "markdown",
   "id": "b0aa5bfb-1331-4324-84db-2254285e21f1",
   "metadata": {},
   "source": [
    "### Hạn chế Linear Regression"
   ]
  },
  {
   "cell_type": "markdown",
   "id": "f2b07990-bcc3-4feb-a81f-205589510d14",
   "metadata": {},
   "source": [
    "Hạn chế đầu tiên của Linear Regression là nó rất nhạy cảm với nhiễu (sensitive to noise). Trong ví dụ về mối quan hệ giữa chiều cao và cân nặng bên trên, nếu có chỉ một cặp dữ liệu nhiễu (150 cm, 90kg) thì kết quả sẽ sai khác đi rất nhiều. Xem hình dưới đây:"
   ]
  },
  {
   "attachments": {
    "4df79c2a-7858-420e-9d8f-e4199270dc7a.png": {
     "image/png": "[encoded data removed]"
    }
   },
   "cell_type": "markdown",
   "id": "42407908-6752-43ca-84ac-9edb1dd37567",
   "metadata": {},
   "source": [
    "![image.png](attachment:4df79c2a-7858-420e-9d8f-e4199270dc7a.png)"
   ]
  },
  {
   "cell_type": "markdown",
   "id": "751971f4-0865-4f07-8a6c-877525614aa2",
   "metadata": {},
   "source": [
    "Vì vậy trước khi áp dụng mô hình này ta cần xử lý các dữ liệu ngoài lai (outlier). Bước này gọi là tiền xử lý (pre-processing)."
   ]
  },
  {
   "cell_type": "markdown",
   "id": "9deeb6b3-44c8-442d-9863-7d5e22841baa",
   "metadata": {},
   "source": [
    "Hạn chế tiếp theo là mô hình này không biểu diễn những bài toán có dạng phi tuyến tính. Dữ liệu hầu hết là dạng phi tuyến tính mà mô hình Linear Regression yêu cầu phải có quan hệ tuyến tính với w, thành ra mô hình này lại quá đơn giản so với các bài toán thực tế. Mặc dù ở trên ta có thể nâng bậc, hay thêm các hàm tính giá trị thành 1 chiều cho $\\vec{x}$. Nhưng làm sao ta tìm các hàm ở trên? Nó là điều rất khó khăn."
   ]
  },
  {
   "cell_type": "markdown",
   "id": "7b90deda-c3be-48bf-ac97-2ce8c430e285",
   "metadata": {},
   "source": [
    "### Các phương pháp tối ưu"
   ]
  },
  {
   "cell_type": "markdown",
   "id": "364537e1-6fa9-4621-97c4-03d355dcdcd5",
   "metadata": {},
   "source": [
    "Linear Regression là một mô hình đơn giản, bài toán đơn giản chỉ tìm đạo hàm bằng 0, cũng khá đơn giản. Nhưng trong hầu hết trường hợp của bài toán thực tế, ta không thể giải được đạo hàm bằng 0."
   ]
  },
  {
   "cell_type": "markdown",
   "id": "584b0042-b89e-40cc-853e-a738429e48a8",
   "metadata": {},
   "source": [
    "Linear Regression còn có thể tối ưu bằng thuật toán Gradient Descent mà mình sẽ trình bày sau này."
   ]
  },
  {
   "cell_type": "markdown",
   "id": "95bcdcfe-638f-4087-aa08-f0f3cc762f23",
   "metadata": {},
   "source": [
    "Bạn có thể áp dụng Regularization trong hàm sai số dự đoán để khi bạn nâng bậc dữ liệu lên cao thì nó có tính năng làm mịn hơn cái hàm Linear Regression bậc cao."
   ]
  },
  {
   "cell_type": "code",
   "execution_count": null,
   "id": "ee4412a2-223b-4ed9-94d4-9bffbcfdbe9d",
   "metadata": {},
   "outputs": [],
   "source": []
  }
 ],
 "metadata": {
  "kernelspec": {
   "display_name": "Python 3 (ipykernel)",
   "language": "python",
   "name": "python3"
  },
  "language_info": {
   "codemirror_mode": {
    "name": "ipython",
    "version": 3
   },
   "file_extension": ".py",
   "mimetype": "text/x-python",
   "name": "python",
   "nbconvert_exporter": "python",
   "pygments_lexer": "ipython3",
   "version": "3.12.4"
  }
 },
 "nbformat": 4,
 "nbformat_minor": 5
}
